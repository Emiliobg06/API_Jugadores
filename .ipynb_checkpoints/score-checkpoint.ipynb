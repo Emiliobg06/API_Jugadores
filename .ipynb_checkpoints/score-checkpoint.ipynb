{
 "cells": [
  {
   "cell_type": "code",
   "execution_count": 1,
   "id": "2d6249e5-2554-4436-bb8d-482570a442e7",
   "metadata": {},
   "outputs": [],
   "source": [
    "import pandas as pd\n",
    "from selenium import webdriver\n",
    "from bs4 import BeautifulSoup as bs\n",
    "from selenium.webdriver.chrome.service import Service\n",
    "from webdriver_manager.chrome import ChromeDriverManager\n",
    "from urllib.parse import urljoin\n",
    "import json\n",
    "import requests\n",
    "import datetime"
   ]
  },
  {
   "cell_type": "code",
   "execution_count": 2,
   "id": "c7d4dcaf-d0e1-4e04-bff1-b40a2d1fe4c0",
   "metadata": {},
   "outputs": [],
   "source": [
    "#driver = webdriver.Chrome(service=Service(ChromeDriverManager().install()))"
   ]
  },
  {
   "cell_type": "markdown",
   "id": "c7e648a9-c2d1-45d6-a2cc-1a52444a1fbb",
   "metadata": {},
   "source": [
    "# Ligas"
   ]
  },
  {
   "cell_type": "markdown",
   "id": "f84374e6-b48c-4246-a20a-b95b4387b50e",
   "metadata": {},
   "source": [
    "**Esta función regresa un diccionario con el nombre de los equipos, su id y su slug.\n",
    "Recibe el país, el slug y id del torneo del cuál se van a registrar los equipos**"
   ]
  },
  {
   "cell_type": "code",
   "execution_count": 61,
   "id": "a5251eae-dcbc-4756-91e8-272160e578a9",
   "metadata": {},
   "outputs": [],
   "source": [
    "def liga_dict(country,slug,id):\n",
    "    url = \"https://www.sofascore.com/tournament/football/\"+country+\"/\"+slug+\"/\"+id\n",
    "    page = requests.get(url)\n",
    "    soup1 = bs(page.text)\n",
    "    script_tag = soup1.find_all('script',{'type':'application/json'})\n",
    "    json2= script_tag[0].string\n",
    "    data = json.loads(json2)\n",
    "    js1 = data.get('props', {}).get('pageProps',{}).get('initialProps',{}).get('standings')\n",
    "    js1=js1[2]\n",
    "    eqs=js1.get('rows')\n",
    "    equipos = {'teamName':[i.get('team',{}).get('name') for i in eqs], 'id':[i.get('team',{}).get('id') for i in eqs],'teamslug':[i.get('team',{}).get('slug') for i in eqs], \"teamorigin\":[country for i in eqs]}\n",
    "    return equipos"
   ]
  },
  {
   "cell_type": "markdown",
   "id": "73c8187f-4c1e-4a71-9766-9d184eb74a62",
   "metadata": {},
   "source": [
    "**Esta función regresa un diccionario con los datos de los jugadores del equipo el cuál se recibieron los datos.**"
   ]
  },
  {
   "cell_type": "code",
   "execution_count": 101,
   "id": "0e346074-01de-4352-8658-bd95eecdb2b5",
   "metadata": {},
   "outputs": [],
   "source": [
    "def equipo(team,id,slug,pais):\n",
    "    url = \"https://www.sofascore.com/team/football/\"+slug+\"/\"+str(id)\n",
    "    page = requests.get(url)\n",
    "    soup1 = bs(page.text)\n",
    "    script_tag = soup1.find_all('script', {'type': 'application/ld+json'})\n",
    "    x=script_tag[1]\n",
    "    json_data = x.string\n",
    "    data = json.loads(json_data)\n",
    "    athletes = data.get('athlete', [])\n",
    "    df = {'playerName':[i.get('name') for i in athletes], 'playercountry':[i.get('nationality', {}).get('name') for i in athletes],'team':[team for i in athletes],'teamid':[id for i in athletes],'teamorigin':[pais for i in athletes]}\n",
    "    return df"
   ]
  },
  {
   "cell_type": "markdown",
   "id": "1173d7c9-5ffd-435d-8bff-5c907e8f84b1",
   "metadata": {},
   "source": [
    "**La función merge es para juntar dos diccionarios.**"
   ]
  },
  {
   "cell_type": "code",
   "execution_count": 105,
   "id": "d706c4fe-b205-44e5-b672-2eb33d95a04c",
   "metadata": {},
   "outputs": [],
   "source": [
    "def merge(dict1, dict2):\n",
    "    # Merge dictionaries (concatenate lists)\n",
    "    merged = {}\n",
    "    for key in dict1:\n",
    "        # Convert non-list values to single-item lists\n",
    "        val1 = dict1[key] if isinstance(dict1[key], list) else [dict1[key]]\n",
    "        val2 = dict2[key] if isinstance(dict2[key], list) else [dict2[key]]\n",
    "        merged[key] = val1 + val2\n",
    "    \n",
    "    return merged"
   ]
  },
  {
   "cell_type": "markdown",
   "id": "107fd5d7-fdfb-4da3-955d-a6cd6459efef",
   "metadata": {},
   "source": [
    "**La función liga_completa recibe un DataFrame, puede ser el de una liga, o muchas, pero es importante que tenga los datos importantes del equipo del que se quieren extraer datos, regres un diccionario.**"
   ]
  },
  {
   "cell_type": "code",
   "execution_count": 97,
   "id": "1de9c995-8a7b-4e05-bf45-ffb3909e12cc",
   "metadata": {},
   "outputs": [],
   "source": [
    "def liga_completa(dict):\n",
    "    long = len(dict)\n",
    "    df = {\"playerName\": [],\"playercountry\": [],\"team\": [],\"teamid\": [],\"teamorigin\":[]}\n",
    "    for i in range(long):\n",
    "        e1 = equipo(dict.iloc[i,0],dict.iloc[i,1],dict.iloc[i,2],dict.iloc[i,3])\n",
    "        df = merge(df,e1)\n",
    "    return df"
   ]
  },
  {
   "cell_type": "markdown",
   "id": "9a5426a4-f5d3-442f-ba3a-c45be278823d",
   "metadata": {},
   "source": [
    "**Esta función es para extraer los datos de los equipos de las top 30 ligas en el mundo, pero bien puede ser de muchos otros países.**"
   ]
  },
  {
   "cell_type": "code",
   "execution_count": 13,
   "id": "e2e77012-5cf1-48c2-9cd6-b86ddad28862",
   "metadata": {},
   "outputs": [],
   "source": [
    "def todo(ligas):\n",
    "    df = {\"teamName\": [],\"id\": [],\"teamslug\": [],\"teamorigin\":[]}\n",
    "    y = len(ligas)\n",
    "    for i in range(y):\n",
    "        x = liga_dict(ligas.iloc[i,0],ligas.iloc[i,3],str(ligas.iloc[i,2]))\n",
    "        df = merge(df,x)\n",
    "    return df"
   ]
  },
  {
   "cell_type": "markdown",
   "id": "3aa7592d-de45-4727-9e4b-4881ed76c0d8",
   "metadata": {},
   "source": [
    "# Paises"
   ]
  },
  {
   "cell_type": "code",
   "execution_count": 15,
   "id": "7914992d-6bbd-4ff0-8e55-8efd4898b0e1",
   "metadata": {},
   "outputs": [],
   "source": [
    "slugs = [\n",
    "    \"mexico\", \"england\", \"spain\", \"germany\", \"italy\", \"france\", \"afghanistan\",\n",
    "    \"albania\", \"algeria\", \"american-samoa\", \"andorra\", \"angola\", \"anguilla\", \n",
    "    \"antigua-and-barbuda\",\"argentina\", \"armenia\", \"aruba\", \"australia\",\n",
    "    \"austria\", \"azerbaijan\", \"bahamas\", \"bahrain\", \"bangladesh\", \"barbados\",\n",
    "    \"belarus\", \"belgium\", \"belize\", \"benin\", \"bermuda\", \"bhutan\", \"bolivia\",\n",
    "    \"bosnia-herzegovina\", \"botswana\", \"brazil\", \"british-virgin-islands\",\n",
    "    \"brunei\", \"bulgaria\", \"burundi\", \"cambodia\", \"cameroon\", \"canada\",\n",
    "    \"cape-verde\", \"cayman-islands\", \"chad\", \"chile\", \"china\", \"chinese-taipei\",\n",
    "    \"colombia\", \"comoros\", \"congo-republic\", \"cook-islands\", \"costa-rica\",\n",
    "    \"croatia\", \"curacao\", \"cyprus\", \"czech-republic\", \"denmark\", \"dominica\",\n",
    "    \"dominican-republic\", \"dr-congo\", \"ecuador\", \"egypt\", \"el-salvador\",\n",
    "    \"estonia\", \"ethiopia\", \"faroe-islands\", \"fiji\", \"finland\",\n",
    "    \"french-guiana\", \"gabon\", \"gambia\", \"georgia\", \"ghana\", \"gibraltar\",\n",
    "    \"greece\", \"greenland\", \"grenada\", \"guadeloupe\", \"guam\", \"guatemala\",\n",
    "    \"guinea\", \"honduras\", \"hong-kong\", \"hungary\", \"iceland\", \"india\",\n",
    "    \"indonesia\", \"iran\", \"iraq\", \"ireland\", \"israel\", \"ivory-coast\", \"jamaica\",\n",
    "    \"japan\", \"jordan\", \"kazakhstan\", \"kenya\", \"kosovo\", \"kuwait\", \"kyrgyzstan\",\n",
    "    \"laos\", \"latvia\", \"lebanon\", \"lesotho\", \"liberia\", \"libya\", \"liechtenstein\",\n",
    "    \"lithuania\", \"luxembourg\", \"macao\", \"madagascar\", \"malaysia\", \"malta\",\n",
    "    \"martinique\", \"mauritania\", \"mauritius\", \"mayotte\", \"moldova\", \"mongolia\",\n",
    "    \"montenegro\", \"morocco\", \"mozambique\", \"myanmar\", \"namibia\", \"nepal\",\n",
    "    \"netherlands\", \"new-caledonia\", \"new-zealand\", \"nicaragua\", \"nigeria\",\n",
    "    \"north-macedonia\", \"northern-ireland\", \"northern-mariana-islands\",\n",
    "    \"norway\", \"pakistan\", \"palestine\", \"panama\", \"papua-new-guinea\",\n",
    "    \"paraguay\", \"peru\", \"philippines\", \"poland\", \"portugal\",\n",
    "    \"romania\", \"russia\", \"rwanda\", \"saint-kitts-and-nevis\", \"saint-martin\",\n",
    "    \"saint-vincent-and-the-grenadines\", \"samoa\", \"san-marino\",\n",
    "    \"sao-tome-and-principe\", \"scotland\", \"senegal\", \"serbia\",\n",
    "    \"seychelles\", \"sierra-leone\", \"singapore\", \"sint-maarten\", \"slovakia\",\n",
    "    \"slovenia\", \"solomon-islands\", \"somalia\", \"south-africa\", \"south-korea\",\n",
    "    \"south-sudan\", \"suriname\", \"sweden\", \"switzerland\", \"tahiti\",\n",
    "    \"tajikistan\", \"tanzania\", \"thailand\", \"tonga\",\n",
    "    \"trinidad-and-tobago\", \"tunisia\", \"turkey\", \"turkmenistan\",\n",
    "    \"turks-and-caicos-islands\", \"uganda\", \"ukraine\", \"united-arab-emirates\"\n",
    "    , \"us-virgin-islands\", \"usa\", \"uzbekistan\", \"vanuatu\", \"venezuela\",\n",
    "    \"vietnam\", \"wales\", \"zambia\", \"zimbabwe\",\n",
    "    \"qatar\",\"swaziland\",\"oman\",\"saudi-arabia\",\"syria\",\"uruguay\"\n",
    "]"
   ]
  },
  {
   "cell_type": "markdown",
   "id": "03f299af-4aa4-4fea-8819-a0805aa231bd",
   "metadata": {},
   "source": [
    "**Esta función es para extraer los id's de las ligas de todos los países, probablemente no se vuelva a usar.**"
   ]
  },
  {
   "cell_type": "code",
   "execution_count": 17,
   "id": "4c043d92-57a4-410d-b81c-a965d3c97f07",
   "metadata": {},
   "outputs": [],
   "source": [
    "def ligas_por_pais(pa,torn,id,slugs_t,pais):\n",
    "    driver.get(\"https://www.sofascore.com/football/\"+pais)\n",
    "    cont1 = driver.page_source\n",
    "    soup1 = bs(cont1)\n",
    "    todo = soup1.find_all('a')\n",
    "    for i in todo:\n",
    "        soup = i.get(\"href\")\n",
    "        divi = soup.split(\"/\")\n",
    "        if (divi[1] == 'tournament') and (divi[2] == 'football') and (divi[3] == pais):\n",
    "            h3=i.find('h3')\n",
    "            if h3:\n",
    "                nombre = h3.get_text(strip=True)\n",
    "            else:\n",
    "                continue\n",
    "            pa+=[pais]\n",
    "            torn+=[nombre]\n",
    "            id+=[divi[5]]\n",
    "            slugs_t+=[divi[4]]\n",
    "    return pa,torn,id,slugs_t"
   ]
  },
  {
   "cell_type": "markdown",
   "id": "e0e387a7-8cfd-4193-9c5c-588f7dd47d70",
   "metadata": {},
   "source": [
    "**Esta función es para extraer los datos de las primeras divisiones de todos los países.**"
   ]
  },
  {
   "cell_type": "code",
   "execution_count": 19,
   "id": "f529068e-fdb4-461a-91d7-15eb0fc8b10e",
   "metadata": {},
   "outputs": [],
   "source": [
    "pa=[]\n",
    "torn=[]\n",
    "id=[]\n",
    "slugs_t=[]\n",
    "\n",
    "def prims_div():\n",
    "    for i in slugs:\n",
    "        filt = dicc[dicc[\"slug_country\"]==i]\n",
    "        xf = filt.iloc[0]\n",
    "        pa.append(xf.slug_country)\n",
    "        torn.append(xf.tournament)\n",
    "        id.append(xf.id)\n",
    "        slugs_t.append(xf.slug_torn)\n",
    "    prdiv={'slug_country':pa,'tournament':torn,'id':id,'slug_torn':slugs_t}\n",
    "    return prdiv"
   ]
  },
  {
   "cell_type": "markdown",
   "id": "73564883-08ca-4f16-ab61-077ab187f8f2",
   "metadata": {},
   "source": [
    "**Llama a las funciones y extrae solo las primeras divisiones\n",
    "Actualización: Una vez que ya estén definidas, puede que ya no las use**"
   ]
  },
  {
   "cell_type": "markdown",
   "id": "6fd6fdde-f8fa-4613-9a36-df97efbc96a8",
   "metadata": {},
   "source": [
    "dicc = pd.read_csv(\"ligas.csv\")\n",
    "prdiv = prims_div()\n",
    "prdiv = pd.DataFrame(prdiv)\n",
    "prdiv = prdiv.drop([18,30,106,169,182,144,44],axis =0)"
   ]
  },
  {
   "cell_type": "code",
   "execution_count": 70,
   "id": "251603c9-993a-4aff-b9fa-cf7b4d10dabb",
   "metadata": {},
   "outputs": [],
   "source": [
    "prdiv = pd.read_csv(\"primeras_divisiones.csv\")"
   ]
  },
  {
   "cell_type": "markdown",
   "id": "680f54d9-c16e-4d87-948a-488af0851e96",
   "metadata": {},
   "source": [
    "**Aquí es donde se escogen solo las top 30 primeras divisiones, y se guardan en la variable prdiv_f, y puede que ya no sea nececario**"
   ]
  },
  {
   "cell_type": "markdown",
   "id": "668a9c8e-cbfd-4b11-be71-918ca5bafd3d",
   "metadata": {},
   "source": [
    "eqs = pd.read_csv(\"equipos_30.csv\")\n",
    "eqs=eqs.drop([\"Unnamed: 0\"], axis=1)"
   ]
  },
  {
   "cell_type": "markdown",
   "id": "e3f046e7-c192-4140-97c8-588cbdaaf033",
   "metadata": {},
   "source": [
    "**Esta parte llama a la función todo, la cuál trae los equipos y sus datos de las ligas que sean el input, pued que también ya no se ocupe**"
   ]
  },
  {
   "cell_type": "markdown",
   "id": "aa897c82-6a3f-4bfb-92f6-a63fdf5536f0",
   "metadata": {},
   "source": [
    "todos_equipos = todo(prdiv)\n",
    "todos_equipos = pd.DataFrame(todos_equipos)"
   ]
  },
  {
   "cell_type": "markdown",
   "id": "1c7d92b4-e0b0-4d96-b82d-6ad186d0dacb",
   "metadata": {},
   "source": [
    "**En esta parte llamo a la función liga completa, la cuál no necesariamente recibe una liga, recibe un dataframe\n",
    "con los equipos, y en este caso son todos, igual puede que ya no se use.**"
   ]
  },
  {
   "cell_type": "markdown",
   "id": "3e65c3da-8a56-4ffd-a784-d64605581a20",
   "metadata": {},
   "source": [
    "jugadores = liga_completa(todos_equipos)\n",
    "jugadores = jugadores.drop([\"teamorigin\",\"team\",\"Unnamed: 0\"], axis=1)"
   ]
  },
  {
   "cell_type": "markdown",
   "id": "49cd4cf7-0624-4f93-a84c-c9a4bf893fc4",
   "metadata": {},
   "source": [
    "**Esta parte puede que ya no la use ya que es para renombrar las columnas de id por simple comodidad**"
   ]
  },
  {
   "cell_type": "markdown",
   "id": "7d2c5fef-9463-439a-9227-0d46bac94139",
   "metadata": {},
   "source": [
    "prdiv = prdiv.rename(columns={\"id\":\"leagueid\"})\n",
    "todos_equipos = todos_equipos.rename(columns={\"id\":\"teamid\"})"
   ]
  },
  {
   "cell_type": "code",
   "execution_count": 210,
   "id": "9fc9d6af-2ef2-45d1-9643-18df358e0bdc",
   "metadata": {},
   "outputs": [],
   "source": [
    "jugadores = pd.read_csv(\"jugadores.csv\")\n",
    "todos_equipos = pd.read_csv(\"equipos_primeras_divisiones.csv\")"
   ]
  },
  {
   "cell_type": "markdown",
   "id": "9ae5ced7-22f7-49f6-85ec-719b9bed2760",
   "metadata": {},
   "source": [
    "**Este merge es para que se junten los equipos, y su país de origen**"
   ]
  },
  {
   "cell_type": "code",
   "execution_count": 80,
   "id": "8bd4755b-40e8-4253-8f4e-d447728a5674",
   "metadata": {},
   "outputs": [],
   "source": [
    "merge_p_equipos = pd.merge(prdiv,col, left_on=\"slug_country\",right_on=\"teamorigin\",how=\"inner\")"
   ]
  },
  {
   "cell_type": "markdown",
   "id": "4fa5e170-b30a-409e-99c5-8953cdcd1586",
   "metadata": {},
   "source": [
    "**Este otro es para juntar las tablas de jugadores con equipos, no la convierto en un csv, es solo para el JSON.**"
   ]
  },
  {
   "cell_type": "code",
   "execution_count": 212,
   "id": "136b31b7-2388-43ad-ab40-03b379bc6ee0",
   "metadata": {},
   "outputs": [
    {
     "ename": "ValueError",
     "evalue": "You are trying to merge on object and int64 columns for key 'teamid'. If you wish to proceed you should use pd.concat",
     "output_type": "error",
     "traceback": [
      "\u001b[1;31m---------------------------------------------------------------------------\u001b[0m",
      "\u001b[1;31mValueError\u001b[0m                                Traceback (most recent call last)",
      "Cell \u001b[1;32mIn[212], line 1\u001b[0m\n\u001b[1;32m----> 1\u001b[0m morg_prueba \u001b[38;5;241m=\u001b[39m \u001b[43mpd\u001b[49m\u001b[38;5;241;43m.\u001b[39;49m\u001b[43mmerge\u001b[49m\u001b[43m(\u001b[49m\u001b[43mjugadores\u001b[49m\u001b[43m,\u001b[49m\u001b[43mtodos_equipos\u001b[49m\u001b[43m,\u001b[49m\u001b[43m \u001b[49m\u001b[43mleft_on\u001b[49m\u001b[38;5;241;43m=\u001b[39;49m\u001b[38;5;124;43m\"\u001b[39;49m\u001b[38;5;124;43mteamid\u001b[39;49m\u001b[38;5;124;43m\"\u001b[39;49m\u001b[43m,\u001b[49m\u001b[43mright_on\u001b[49m\u001b[38;5;241;43m=\u001b[39;49m\u001b[38;5;124;43m\"\u001b[39;49m\u001b[38;5;124;43mteamid\u001b[39;49m\u001b[38;5;124;43m\"\u001b[39;49m\u001b[43m,\u001b[49m\u001b[43mhow\u001b[49m\u001b[38;5;241;43m=\u001b[39;49m\u001b[38;5;124;43m\"\u001b[39;49m\u001b[38;5;124;43mright\u001b[39;49m\u001b[38;5;124;43m\"\u001b[39;49m\u001b[43m)\u001b[49m\n",
      "File \u001b[1;32m~\\Downloads\\Python DS A2\\Lib\\site-packages\\pandas\\core\\reshape\\merge.py:170\u001b[0m, in \u001b[0;36mmerge\u001b[1;34m(left, right, how, on, left_on, right_on, left_index, right_index, sort, suffixes, copy, indicator, validate)\u001b[0m\n\u001b[0;32m    155\u001b[0m     \u001b[38;5;28;01mreturn\u001b[39;00m _cross_merge(\n\u001b[0;32m    156\u001b[0m         left_df,\n\u001b[0;32m    157\u001b[0m         right_df,\n\u001b[1;32m   (...)\u001b[0m\n\u001b[0;32m    167\u001b[0m         copy\u001b[38;5;241m=\u001b[39mcopy,\n\u001b[0;32m    168\u001b[0m     )\n\u001b[0;32m    169\u001b[0m \u001b[38;5;28;01melse\u001b[39;00m:\n\u001b[1;32m--> 170\u001b[0m     op \u001b[38;5;241m=\u001b[39m \u001b[43m_MergeOperation\u001b[49m\u001b[43m(\u001b[49m\n\u001b[0;32m    171\u001b[0m \u001b[43m        \u001b[49m\u001b[43mleft_df\u001b[49m\u001b[43m,\u001b[49m\n\u001b[0;32m    172\u001b[0m \u001b[43m        \u001b[49m\u001b[43mright_df\u001b[49m\u001b[43m,\u001b[49m\n\u001b[0;32m    173\u001b[0m \u001b[43m        \u001b[49m\u001b[43mhow\u001b[49m\u001b[38;5;241;43m=\u001b[39;49m\u001b[43mhow\u001b[49m\u001b[43m,\u001b[49m\n\u001b[0;32m    174\u001b[0m \u001b[43m        \u001b[49m\u001b[43mon\u001b[49m\u001b[38;5;241;43m=\u001b[39;49m\u001b[43mon\u001b[49m\u001b[43m,\u001b[49m\n\u001b[0;32m    175\u001b[0m \u001b[43m        \u001b[49m\u001b[43mleft_on\u001b[49m\u001b[38;5;241;43m=\u001b[39;49m\u001b[43mleft_on\u001b[49m\u001b[43m,\u001b[49m\n\u001b[0;32m    176\u001b[0m \u001b[43m        \u001b[49m\u001b[43mright_on\u001b[49m\u001b[38;5;241;43m=\u001b[39;49m\u001b[43mright_on\u001b[49m\u001b[43m,\u001b[49m\n\u001b[0;32m    177\u001b[0m \u001b[43m        \u001b[49m\u001b[43mleft_index\u001b[49m\u001b[38;5;241;43m=\u001b[39;49m\u001b[43mleft_index\u001b[49m\u001b[43m,\u001b[49m\n\u001b[0;32m    178\u001b[0m \u001b[43m        \u001b[49m\u001b[43mright_index\u001b[49m\u001b[38;5;241;43m=\u001b[39;49m\u001b[43mright_index\u001b[49m\u001b[43m,\u001b[49m\n\u001b[0;32m    179\u001b[0m \u001b[43m        \u001b[49m\u001b[43msort\u001b[49m\u001b[38;5;241;43m=\u001b[39;49m\u001b[43msort\u001b[49m\u001b[43m,\u001b[49m\n\u001b[0;32m    180\u001b[0m \u001b[43m        \u001b[49m\u001b[43msuffixes\u001b[49m\u001b[38;5;241;43m=\u001b[39;49m\u001b[43msuffixes\u001b[49m\u001b[43m,\u001b[49m\n\u001b[0;32m    181\u001b[0m \u001b[43m        \u001b[49m\u001b[43mindicator\u001b[49m\u001b[38;5;241;43m=\u001b[39;49m\u001b[43mindicator\u001b[49m\u001b[43m,\u001b[49m\n\u001b[0;32m    182\u001b[0m \u001b[43m        \u001b[49m\u001b[43mvalidate\u001b[49m\u001b[38;5;241;43m=\u001b[39;49m\u001b[43mvalidate\u001b[49m\u001b[43m,\u001b[49m\n\u001b[0;32m    183\u001b[0m \u001b[43m    \u001b[49m\u001b[43m)\u001b[49m\n\u001b[0;32m    184\u001b[0m     \u001b[38;5;28;01mreturn\u001b[39;00m op\u001b[38;5;241m.\u001b[39mget_result(copy\u001b[38;5;241m=\u001b[39mcopy)\n",
      "File \u001b[1;32m~\\Downloads\\Python DS A2\\Lib\\site-packages\\pandas\\core\\reshape\\merge.py:807\u001b[0m, in \u001b[0;36m_MergeOperation.__init__\u001b[1;34m(self, left, right, how, on, left_on, right_on, left_index, right_index, sort, suffixes, indicator, validate)\u001b[0m\n\u001b[0;32m    803\u001b[0m \u001b[38;5;28mself\u001b[39m\u001b[38;5;241m.\u001b[39m_validate_tolerance(\u001b[38;5;28mself\u001b[39m\u001b[38;5;241m.\u001b[39mleft_join_keys)\n\u001b[0;32m    805\u001b[0m \u001b[38;5;66;03m# validate the merge keys dtypes. We may need to coerce\u001b[39;00m\n\u001b[0;32m    806\u001b[0m \u001b[38;5;66;03m# to avoid incompatible dtypes\u001b[39;00m\n\u001b[1;32m--> 807\u001b[0m \u001b[38;5;28;43mself\u001b[39;49m\u001b[38;5;241;43m.\u001b[39;49m\u001b[43m_maybe_coerce_merge_keys\u001b[49m\u001b[43m(\u001b[49m\u001b[43m)\u001b[49m\n\u001b[0;32m    809\u001b[0m \u001b[38;5;66;03m# If argument passed to validate,\u001b[39;00m\n\u001b[0;32m    810\u001b[0m \u001b[38;5;66;03m# check if columns specified as unique\u001b[39;00m\n\u001b[0;32m    811\u001b[0m \u001b[38;5;66;03m# are in fact unique.\u001b[39;00m\n\u001b[0;32m    812\u001b[0m \u001b[38;5;28;01mif\u001b[39;00m validate \u001b[38;5;129;01mis\u001b[39;00m \u001b[38;5;129;01mnot\u001b[39;00m \u001b[38;5;28;01mNone\u001b[39;00m:\n",
      "File \u001b[1;32m~\\Downloads\\Python DS A2\\Lib\\site-packages\\pandas\\core\\reshape\\merge.py:1508\u001b[0m, in \u001b[0;36m_MergeOperation._maybe_coerce_merge_keys\u001b[1;34m(self)\u001b[0m\n\u001b[0;32m   1502\u001b[0m     \u001b[38;5;66;03m# unless we are merging non-string-like with string-like\u001b[39;00m\n\u001b[0;32m   1503\u001b[0m     \u001b[38;5;28;01melif\u001b[39;00m (\n\u001b[0;32m   1504\u001b[0m         inferred_left \u001b[38;5;129;01min\u001b[39;00m string_types \u001b[38;5;129;01mand\u001b[39;00m inferred_right \u001b[38;5;129;01mnot\u001b[39;00m \u001b[38;5;129;01min\u001b[39;00m string_types\n\u001b[0;32m   1505\u001b[0m     ) \u001b[38;5;129;01mor\u001b[39;00m (\n\u001b[0;32m   1506\u001b[0m         inferred_right \u001b[38;5;129;01min\u001b[39;00m string_types \u001b[38;5;129;01mand\u001b[39;00m inferred_left \u001b[38;5;129;01mnot\u001b[39;00m \u001b[38;5;129;01min\u001b[39;00m string_types\n\u001b[0;32m   1507\u001b[0m     ):\n\u001b[1;32m-> 1508\u001b[0m         \u001b[38;5;28;01mraise\u001b[39;00m \u001b[38;5;167;01mValueError\u001b[39;00m(msg)\n\u001b[0;32m   1510\u001b[0m \u001b[38;5;66;03m# datetimelikes must match exactly\u001b[39;00m\n\u001b[0;32m   1511\u001b[0m \u001b[38;5;28;01melif\u001b[39;00m needs_i8_conversion(lk\u001b[38;5;241m.\u001b[39mdtype) \u001b[38;5;129;01mand\u001b[39;00m \u001b[38;5;129;01mnot\u001b[39;00m needs_i8_conversion(rk\u001b[38;5;241m.\u001b[39mdtype):\n",
      "\u001b[1;31mValueError\u001b[0m: You are trying to merge on object and int64 columns for key 'teamid'. If you wish to proceed you should use pd.concat"
     ]
    }
   ],
   "source": [
    "morg_prueba = pd.merge(jugadores,todos_equipos, left_on=\"teamid\",right_on=\"teamid\",how=\"right\")"
   ]
  },
  {
   "cell_type": "code",
   "execution_count": 107,
   "id": "65e4f0d5-c292-46c8-b6ae-3162f9129612",
   "metadata": {},
   "outputs": [],
   "source": [
    "jugs_col = liga_completa(col)"
   ]
  },
  {
   "cell_type": "code",
   "execution_count": 160,
   "id": "caff467e-e4cc-44ba-b443-25068a63d3cc",
   "metadata": {},
   "outputs": [],
   "source": [
    "jkk=jugadores[jugadores.duplicated()]"
   ]
  },
  {
   "cell_type": "code",
   "execution_count": 206,
   "id": "9abc8c59-473b-4645-b48a-cb553e13f92b",
   "metadata": {},
   "outputs": [
    {
     "data": {
      "text/plain": [
       "284        1948\n",
       "5979     264278\n",
       "6459       3353\n",
       "7284     338855\n",
       "7875      21982\n",
       "          ...  \n",
       "47692      6115\n",
       "47693      6115\n",
       "47694      6115\n",
       "47695      6115\n",
       "47696      6115\n",
       "Name: teamid, Length: 323, dtype: object"
      ]
     },
     "execution_count": 206,
     "metadata": {},
     "output_type": "execute_result"
    }
   ],
   "source": [
    "#jugadores[jugadores[\"playerName\"]==\"Gabriel\"]\n",
    "#lj = pd.merge(jkk,todos_equipos, on=\"teamid\",how=\"inner\")\n",
    "jkk.teamid"
   ]
  },
  {
   "cell_type": "code",
   "execution_count": 33,
   "id": "c28c87ad-7037-4b2d-be3d-6b1dd558887d",
   "metadata": {},
   "outputs": [],
   "source": [
    "#morg[\"playercountry\"] = morg[\"playercountry\"].fillna(\"na\")"
   ]
  },
  {
   "cell_type": "code",
   "execution_count": 188,
   "id": "7771ab9b-20e9-4da6-8a97-c0a83ccf7afb",
   "metadata": {},
   "outputs": [
    {
     "data": {
      "text/html": [
       "<div>\n",
       "<style scoped>\n",
       "    .dataframe tbody tr th:only-of-type {\n",
       "        vertical-align: middle;\n",
       "    }\n",
       "\n",
       "    .dataframe tbody tr th {\n",
       "        vertical-align: top;\n",
       "    }\n",
       "\n",
       "    .dataframe thead th {\n",
       "        text-align: right;\n",
       "    }\n",
       "</style>\n",
       "<table border=\"1\" class=\"dataframe\">\n",
       "  <thead>\n",
       "    <tr style=\"text-align: right;\">\n",
       "      <th></th>\n",
       "      <th>slug_country</th>\n",
       "      <th>tournament</th>\n",
       "      <th>leagueid</th>\n",
       "      <th>slug_torn</th>\n",
       "      <th>teamName</th>\n",
       "      <th>teamid</th>\n",
       "      <th>teamslug</th>\n",
       "      <th>teamorigin</th>\n",
       "    </tr>\n",
       "  </thead>\n",
       "  <tbody>\n",
       "    <tr>\n",
       "      <th>593</th>\n",
       "      <td>colombia</td>\n",
       "      <td>Primera A, Apertura</td>\n",
       "      <td>11539</td>\n",
       "      <td>primera-a-apertura</td>\n",
       "      <td>América de Cali</td>\n",
       "      <td>6102</td>\n",
       "      <td>america-de-cali</td>\n",
       "      <td>colombia</td>\n",
       "    </tr>\n",
       "    <tr>\n",
       "      <th>594</th>\n",
       "      <td>colombia</td>\n",
       "      <td>Primera A, Apertura</td>\n",
       "      <td>11539</td>\n",
       "      <td>primera-a-apertura</td>\n",
       "      <td>Millonarios</td>\n",
       "      <td>6117</td>\n",
       "      <td>millonarios</td>\n",
       "      <td>colombia</td>\n",
       "    </tr>\n",
       "    <tr>\n",
       "      <th>595</th>\n",
       "      <td>colombia</td>\n",
       "      <td>Primera A, Apertura</td>\n",
       "      <td>11539</td>\n",
       "      <td>primera-a-apertura</td>\n",
       "      <td>Junior Barranquilla</td>\n",
       "      <td>6105</td>\n",
       "      <td>junior-barranquilla</td>\n",
       "      <td>colombia</td>\n",
       "    </tr>\n",
       "    <tr>\n",
       "      <th>596</th>\n",
       "      <td>colombia</td>\n",
       "      <td>Primera A, Apertura</td>\n",
       "      <td>11539</td>\n",
       "      <td>primera-a-apertura</td>\n",
       "      <td>Deportes Tolima</td>\n",
       "      <td>6111</td>\n",
       "      <td>deportes-tolima</td>\n",
       "      <td>colombia</td>\n",
       "    </tr>\n",
       "    <tr>\n",
       "      <th>597</th>\n",
       "      <td>colombia</td>\n",
       "      <td>Primera A, Apertura</td>\n",
       "      <td>11539</td>\n",
       "      <td>primera-a-apertura</td>\n",
       "      <td>Atlético Nacional</td>\n",
       "      <td>6106</td>\n",
       "      <td>atletico-nacional</td>\n",
       "      <td>colombia</td>\n",
       "    </tr>\n",
       "    <tr>\n",
       "      <th>598</th>\n",
       "      <td>colombia</td>\n",
       "      <td>Primera A, Apertura</td>\n",
       "      <td>11539</td>\n",
       "      <td>primera-a-apertura</td>\n",
       "      <td>Independiente Santa Fe</td>\n",
       "      <td>6116</td>\n",
       "      <td>independiente-santa-fe</td>\n",
       "      <td>colombia</td>\n",
       "    </tr>\n",
       "    <tr>\n",
       "      <th>599</th>\n",
       "      <td>colombia</td>\n",
       "      <td>Primera A, Apertura</td>\n",
       "      <td>11539</td>\n",
       "      <td>primera-a-apertura</td>\n",
       "      <td>Once Caldas</td>\n",
       "      <td>6118</td>\n",
       "      <td>once-caldas</td>\n",
       "      <td>colombia</td>\n",
       "    </tr>\n",
       "    <tr>\n",
       "      <th>600</th>\n",
       "      <td>colombia</td>\n",
       "      <td>Primera A, Apertura</td>\n",
       "      <td>11539</td>\n",
       "      <td>primera-a-apertura</td>\n",
       "      <td>Independiente Medellín</td>\n",
       "      <td>6115</td>\n",
       "      <td>independiente-medellin</td>\n",
       "      <td>colombia</td>\n",
       "    </tr>\n",
       "    <tr>\n",
       "      <th>601</th>\n",
       "      <td>colombia</td>\n",
       "      <td>Primera A, Apertura</td>\n",
       "      <td>11539</td>\n",
       "      <td>primera-a-apertura</td>\n",
       "      <td>Atlético Bucaramanga</td>\n",
       "      <td>6103</td>\n",
       "      <td>atletico-bucaramanga</td>\n",
       "      <td>colombia</td>\n",
       "    </tr>\n",
       "    <tr>\n",
       "      <th>602</th>\n",
       "      <td>colombia</td>\n",
       "      <td>Primera A, Apertura</td>\n",
       "      <td>11539</td>\n",
       "      <td>primera-a-apertura</td>\n",
       "      <td>Alianza Valledupar FC</td>\n",
       "      <td>504899</td>\n",
       "      <td>alianza-futbol-club</td>\n",
       "      <td>colombia</td>\n",
       "    </tr>\n",
       "    <tr>\n",
       "      <th>603</th>\n",
       "      <td>colombia</td>\n",
       "      <td>Primera A, Apertura</td>\n",
       "      <td>11539</td>\n",
       "      <td>primera-a-apertura</td>\n",
       "      <td>Deportivo Pasto</td>\n",
       "      <td>6113</td>\n",
       "      <td>deportivo-pasto</td>\n",
       "      <td>colombia</td>\n",
       "    </tr>\n",
       "    <tr>\n",
       "      <th>604</th>\n",
       "      <td>colombia</td>\n",
       "      <td>Primera A, Apertura</td>\n",
       "      <td>11539</td>\n",
       "      <td>primera-a-apertura</td>\n",
       "      <td>Deportivo Pereira</td>\n",
       "      <td>6109</td>\n",
       "      <td>deportivo-pereira</td>\n",
       "      <td>colombia</td>\n",
       "    </tr>\n",
       "    <tr>\n",
       "      <th>605</th>\n",
       "      <td>colombia</td>\n",
       "      <td>Primera A, Apertura</td>\n",
       "      <td>11539</td>\n",
       "      <td>primera-a-apertura</td>\n",
       "      <td>Deportivo Cali</td>\n",
       "      <td>6112</td>\n",
       "      <td>deportivo-cali</td>\n",
       "      <td>colombia</td>\n",
       "    </tr>\n",
       "    <tr>\n",
       "      <th>606</th>\n",
       "      <td>colombia</td>\n",
       "      <td>Primera A, Apertura</td>\n",
       "      <td>11539</td>\n",
       "      <td>primera-a-apertura</td>\n",
       "      <td>Rionegro Águilas Doradas</td>\n",
       "      <td>48244</td>\n",
       "      <td>rionegro-aguilas-doradas</td>\n",
       "      <td>colombia</td>\n",
       "    </tr>\n",
       "    <tr>\n",
       "      <th>607</th>\n",
       "      <td>colombia</td>\n",
       "      <td>Primera A, Apertura</td>\n",
       "      <td>11539</td>\n",
       "      <td>primera-a-apertura</td>\n",
       "      <td>Llaneros FC</td>\n",
       "      <td>89374</td>\n",
       "      <td>llaneros-fc</td>\n",
       "      <td>colombia</td>\n",
       "    </tr>\n",
       "    <tr>\n",
       "      <th>608</th>\n",
       "      <td>colombia</td>\n",
       "      <td>Primera A, Apertura</td>\n",
       "      <td>11539</td>\n",
       "      <td>primera-a-apertura</td>\n",
       "      <td>Fortaleza CEIF</td>\n",
       "      <td>89368</td>\n",
       "      <td>fortaleza-ceif</td>\n",
       "      <td>colombia</td>\n",
       "    </tr>\n",
       "    <tr>\n",
       "      <th>609</th>\n",
       "      <td>colombia</td>\n",
       "      <td>Primera A, Apertura</td>\n",
       "      <td>11539</td>\n",
       "      <td>primera-a-apertura</td>\n",
       "      <td>Boyacá Chicó FC</td>\n",
       "      <td>6107</td>\n",
       "      <td>boyaca-chico-fc</td>\n",
       "      <td>colombia</td>\n",
       "    </tr>\n",
       "    <tr>\n",
       "      <th>610</th>\n",
       "      <td>colombia</td>\n",
       "      <td>Primera A, Apertura</td>\n",
       "      <td>11539</td>\n",
       "      <td>primera-a-apertura</td>\n",
       "      <td>Envigado FC</td>\n",
       "      <td>6114</td>\n",
       "      <td>envigado-fc</td>\n",
       "      <td>colombia</td>\n",
       "    </tr>\n",
       "    <tr>\n",
       "      <th>611</th>\n",
       "      <td>colombia</td>\n",
       "      <td>Primera A, Apertura</td>\n",
       "      <td>11539</td>\n",
       "      <td>primera-a-apertura</td>\n",
       "      <td>Unión Magdalena</td>\n",
       "      <td>89376</td>\n",
       "      <td>union-magdalena</td>\n",
       "      <td>colombia</td>\n",
       "    </tr>\n",
       "    <tr>\n",
       "      <th>612</th>\n",
       "      <td>colombia</td>\n",
       "      <td>Primera A, Apertura</td>\n",
       "      <td>11539</td>\n",
       "      <td>primera-a-apertura</td>\n",
       "      <td>Deportivo La Equidad</td>\n",
       "      <td>6975</td>\n",
       "      <td>deportivo-la-equidad</td>\n",
       "      <td>colombia</td>\n",
       "    </tr>\n",
       "  </tbody>\n",
       "</table>\n",
       "</div>"
      ],
      "text/plain": [
       "    slug_country           tournament  leagueid           slug_torn  \\\n",
       "593     colombia  Primera A, Apertura     11539  primera-a-apertura   \n",
       "594     colombia  Primera A, Apertura     11539  primera-a-apertura   \n",
       "595     colombia  Primera A, Apertura     11539  primera-a-apertura   \n",
       "596     colombia  Primera A, Apertura     11539  primera-a-apertura   \n",
       "597     colombia  Primera A, Apertura     11539  primera-a-apertura   \n",
       "598     colombia  Primera A, Apertura     11539  primera-a-apertura   \n",
       "599     colombia  Primera A, Apertura     11539  primera-a-apertura   \n",
       "600     colombia  Primera A, Apertura     11539  primera-a-apertura   \n",
       "601     colombia  Primera A, Apertura     11539  primera-a-apertura   \n",
       "602     colombia  Primera A, Apertura     11539  primera-a-apertura   \n",
       "603     colombia  Primera A, Apertura     11539  primera-a-apertura   \n",
       "604     colombia  Primera A, Apertura     11539  primera-a-apertura   \n",
       "605     colombia  Primera A, Apertura     11539  primera-a-apertura   \n",
       "606     colombia  Primera A, Apertura     11539  primera-a-apertura   \n",
       "607     colombia  Primera A, Apertura     11539  primera-a-apertura   \n",
       "608     colombia  Primera A, Apertura     11539  primera-a-apertura   \n",
       "609     colombia  Primera A, Apertura     11539  primera-a-apertura   \n",
       "610     colombia  Primera A, Apertura     11539  primera-a-apertura   \n",
       "611     colombia  Primera A, Apertura     11539  primera-a-apertura   \n",
       "612     colombia  Primera A, Apertura     11539  primera-a-apertura   \n",
       "\n",
       "                     teamName  teamid                  teamslug teamorigin  \n",
       "593           América de Cali    6102           america-de-cali   colombia  \n",
       "594               Millonarios    6117               millonarios   colombia  \n",
       "595       Junior Barranquilla    6105       junior-barranquilla   colombia  \n",
       "596           Deportes Tolima    6111           deportes-tolima   colombia  \n",
       "597         Atlético Nacional    6106         atletico-nacional   colombia  \n",
       "598    Independiente Santa Fe    6116    independiente-santa-fe   colombia  \n",
       "599               Once Caldas    6118               once-caldas   colombia  \n",
       "600    Independiente Medellín    6115    independiente-medellin   colombia  \n",
       "601      Atlético Bucaramanga    6103      atletico-bucaramanga   colombia  \n",
       "602     Alianza Valledupar FC  504899       alianza-futbol-club   colombia  \n",
       "603           Deportivo Pasto    6113           deportivo-pasto   colombia  \n",
       "604         Deportivo Pereira    6109         deportivo-pereira   colombia  \n",
       "605            Deportivo Cali    6112            deportivo-cali   colombia  \n",
       "606  Rionegro Águilas Doradas   48244  rionegro-aguilas-doradas   colombia  \n",
       "607               Llaneros FC   89374               llaneros-fc   colombia  \n",
       "608            Fortaleza CEIF   89368            fortaleza-ceif   colombia  \n",
       "609           Boyacá Chicó FC    6107           boyaca-chico-fc   colombia  \n",
       "610               Envigado FC    6114               envigado-fc   colombia  \n",
       "611           Unión Magdalena   89376           union-magdalena   colombia  \n",
       "612      Deportivo La Equidad    6975      deportivo-la-equidad   colombia  "
      ]
     },
     "execution_count": 188,
     "metadata": {},
     "output_type": "execute_result"
    }
   ],
   "source": [
    "todos_equipos[todos_equipos[\"teamorigin\"]==\"colombia\"]"
   ]
  },
  {
   "cell_type": "code",
   "execution_count": 194,
   "id": "693f6736-6df7-42d5-9ec6-5c62fb736481",
   "metadata": {},
   "outputs": [
    {
     "data": {
      "text/html": [
       "<div>\n",
       "<style scoped>\n",
       "    .dataframe tbody tr th:only-of-type {\n",
       "        vertical-align: middle;\n",
       "    }\n",
       "\n",
       "    .dataframe tbody tr th {\n",
       "        vertical-align: top;\n",
       "    }\n",
       "\n",
       "    .dataframe thead th {\n",
       "        text-align: right;\n",
       "    }\n",
       "</style>\n",
       "<table border=\"1\" class=\"dataframe\">\n",
       "  <thead>\n",
       "    <tr style=\"text-align: right;\">\n",
       "      <th></th>\n",
       "      <th>playerName</th>\n",
       "      <th>playercountry</th>\n",
       "      <th>teamid</th>\n",
       "    </tr>\n",
       "  </thead>\n",
       "  <tbody>\n",
       "    <tr>\n",
       "      <th>284</th>\n",
       "      <td>Kevin Palacios</td>\n",
       "      <td>Colombia</td>\n",
       "      <td>1948</td>\n",
       "    </tr>\n",
       "    <tr>\n",
       "      <th>5979</th>\n",
       "      <td>Mojibur Rahman Jony</td>\n",
       "      <td>Bangladesh</td>\n",
       "      <td>264278</td>\n",
       "    </tr>\n",
       "    <tr>\n",
       "      <th>6459</th>\n",
       "      <td>Denis Kovalevich</td>\n",
       "      <td>Belarus</td>\n",
       "      <td>3353</td>\n",
       "    </tr>\n",
       "    <tr>\n",
       "      <th>7284</th>\n",
       "      <td>Karma Chetrim</td>\n",
       "      <td>Bhutan</td>\n",
       "      <td>338855</td>\n",
       "    </tr>\n",
       "    <tr>\n",
       "      <th>7875</th>\n",
       "      <td>Gabriel</td>\n",
       "      <td>Brazil</td>\n",
       "      <td>21982</td>\n",
       "    </tr>\n",
       "    <tr>\n",
       "      <th>...</th>\n",
       "      <td>...</td>\n",
       "      <td>...</td>\n",
       "      <td>...</td>\n",
       "    </tr>\n",
       "    <tr>\n",
       "      <th>47692</th>\n",
       "      <td>Washington Aguerre</td>\n",
       "      <td>Uruguay</td>\n",
       "      <td>6115</td>\n",
       "    </tr>\n",
       "    <tr>\n",
       "      <th>47693</th>\n",
       "      <td>José Chunga</td>\n",
       "      <td>Colombia</td>\n",
       "      <td>6115</td>\n",
       "    </tr>\n",
       "    <tr>\n",
       "      <th>47694</th>\n",
       "      <td>Eder Chaux</td>\n",
       "      <td>Colombia</td>\n",
       "      <td>6115</td>\n",
       "    </tr>\n",
       "    <tr>\n",
       "      <th>47695</th>\n",
       "      <td>Halam Loboa</td>\n",
       "      <td>NaN</td>\n",
       "      <td>6115</td>\n",
       "    </tr>\n",
       "    <tr>\n",
       "      <th>47696</th>\n",
       "      <td>Jhan Mena</td>\n",
       "      <td>NaN</td>\n",
       "      <td>6115</td>\n",
       "    </tr>\n",
       "  </tbody>\n",
       "</table>\n",
       "<p>323 rows × 3 columns</p>\n",
       "</div>"
      ],
      "text/plain": [
       "                playerName playercountry  teamid\n",
       "284         Kevin Palacios      Colombia    1948\n",
       "5979   Mojibur Rahman Jony    Bangladesh  264278\n",
       "6459      Denis Kovalevich       Belarus    3353\n",
       "7284         Karma Chetrim        Bhutan  338855\n",
       "7875               Gabriel        Brazil   21982\n",
       "...                    ...           ...     ...\n",
       "47692   Washington Aguerre       Uruguay    6115\n",
       "47693          José Chunga      Colombia    6115\n",
       "47694           Eder Chaux      Colombia    6115\n",
       "47695          Halam Loboa           NaN    6115\n",
       "47696            Jhan Mena           NaN    6115\n",
       "\n",
       "[323 rows x 3 columns]"
      ]
     },
     "execution_count": 194,
     "metadata": {},
     "output_type": "execute_result"
    }
   ],
   "source": [
    "#a_borrar = [6155,6102,6111,6105,]\n",
    "jkk"
   ]
  },
  {
   "cell_type": "code",
   "execution_count": 7,
   "id": "8f497090-70e8-4af1-bc49-8a2e2d5d441f",
   "metadata": {},
   "outputs": [],
   "source": [
    "import datetime\n",
    "import json\n",
    "\n",
    "def create_league_reports(df):\n",
    "    reports = {}\n",
    "\n",
    "    # Agrupar por liga: id, torneo y país\n",
    "    for (leagueid, tournament, slug_country), league_df in df.groupby([\"leagueid\", \"tournament\", \"slug_country\"]):\n",
    "        # Contar jugadores por nacionalidad\n",
    "        country_counts = league_df[\"playercountry\"].value_counts().to_dict()\n",
    "        total_players = sum(country_counts.values())\n",
    "\n",
    "        # Calcular cantidad de equipos (ids únicos)\n",
    "        team_count = league_df[\"teamid\"].nunique()\n",
    "\n",
    "        # Lista de nacionalidades\n",
    "        nationalities = [\n",
    "            {\n",
    "                \"country\": {\"name\": country},\n",
    "                \"playerCount\": int(count),\n",
    "                \"percentage\": round(int(count) / total_players * 100, 1) if total_players > 0 else 0\n",
    "            }\n",
    "            for country, count in country_counts.items()\n",
    "        ]\n",
    "\n",
    "        # Reporte de liga\n",
    "        report = {\n",
    "            \"tournament\": {\n",
    "                \"name\": tournament,\n",
    "                \"slug\": tournament.lower().replace(\" \", \"-\"),\n",
    "                \"category\": {\n",
    "                    \"name\": \"Football\",\n",
    "                    \"slug\": \"football\",\n",
    "                    \"sport\": {\"name\": \"Football\", \"slug\": \"football\", \"id\": 1}\n",
    "                },\n",
    "                \"country\": {\n",
    "                    \"name\": slug_country.capitalize(),\n",
    "                    \"slug\": slug_country\n",
    "                },\n",
    "                \"id\": int(leagueid)\n",
    "            },\n",
    "            \"type\": \"nationality_distribution\",\n",
    "            \"nationalities\": nationalities,\n",
    "            \"totalPlayers\": int(total_players),\n",
    "            \"teamCount\": int(team_count),\n",
    "            \"sufficientPlayers\": bool(total_players >= team_count * 23),\n",
    "            \"updatedAt\": datetime.datetime.now().isoformat()\n",
    "        }\n",
    "\n",
    "        # Guardar por país en vez de por nombre de torneo\n",
    "        if slug_country not in reports:\n",
    "            reports[slug_country] = []\n",
    "        reports[slug_country].append(report)\n",
    "\n",
    "    return reports\n",
    "\n",
    "\n",
    "# Generar reporte\n",
    "reports = create_league_reports(morg_prueba)\n",
    "\n",
    "# Guardar en JSON\n",
    "with open(\"league_reports.json\", \"w\", encoding=\"utf-8\") as f:\n",
    "    json.dump(reports, f, indent=2, ensure_ascii=False)"
   ]
  }
 ],
 "metadata": {
  "kernelspec": {
   "display_name": "Python 3 (ipykernel)",
   "language": "python",
   "name": "python3"
  },
  "language_info": {
   "codemirror_mode": {
    "name": "ipython",
    "version": 3
   },
   "file_extension": ".py",
   "mimetype": "text/x-python",
   "name": "python",
   "nbconvert_exporter": "python",
   "pygments_lexer": "ipython3",
   "version": "3.12.3"
  }
 },
 "nbformat": 4,
 "nbformat_minor": 5
}
