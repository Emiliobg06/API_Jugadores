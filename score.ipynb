{
 "cells": [
  {
   "cell_type": "code",
   "execution_count": 1,
   "id": "2d6249e5-2554-4436-bb8d-482570a442e7",
   "metadata": {},
   "outputs": [],
   "source": [
    "import pandas as pd\n",
    "from selenium import webdriver\n",
    "from bs4 import BeautifulSoup as bs\n",
    "from selenium.webdriver.chrome.service import Service\n",
    "from webdriver_manager.chrome import ChromeDriverManager\n",
    "from urllib.parse import urljoin\n",
    "import json\n",
    "import requests\n",
    "import datetime"
   ]
  },
  {
   "cell_type": "code",
   "execution_count": 2,
   "id": "c7d4dcaf-d0e1-4e04-bff1-b40a2d1fe4c0",
   "metadata": {},
   "outputs": [],
   "source": [
    "#driver = webdriver.Chrome(service=Service(ChromeDriverManager().install()))"
   ]
  },
  {
   "cell_type": "markdown",
   "id": "c7e648a9-c2d1-45d6-a2cc-1a52444a1fbb",
   "metadata": {},
   "source": [
    "# Ligas"
   ]
  },
  {
   "cell_type": "markdown",
   "id": "f84374e6-b48c-4246-a20a-b95b4387b50e",
   "metadata": {},
   "source": [
    "**Esta función regresa un diccionario con el nombre de los equipos, su id y su slug.\n",
    "Recibe el país, el slug y id del torneo del cuál se van a registrar los equipos**"
   ]
  },
  {
   "cell_type": "code",
   "execution_count": null,
   "id": "a5251eae-dcbc-4756-91e8-272160e578a9",
   "metadata": {},
   "outputs": [],
   "source": [
    "def liga_dict(country,slug,id):\n",
    "    url = \"https://www.sofascore.com/tournament/football/\"+country+\"/\"+slug+\"/\"+id\n",
    "    page = requests.get(url)\n",
    "    soup1 = bs(page.text)\n",
    "    script_tag = soup1.find_all('script',{'type':'application/json'})\n",
    "    json2= script_tag[0].string\n",
    "    data = json.loads(json2)\n",
    "    js1 = data.get('props', {}).get('pageProps',{}).get('initialProps',{}).get('standings')\n",
    "    js1=js1[0]\n",
    "    eqs=js1.get('rows')\n",
    "    equipos = {'teamName':[i.get('team',{}).get('name') for i in eqs], 'id':[i.get('team',{}).get('id') for i in eqs],'teamslug':[i.get('team',{}).get('slug') for i in eqs],\"teamorigin\":[country for i in eqs]}\n",
    "    return equipos"
   ]
  },
  {
   "cell_type": "markdown",
   "id": "73c8187f-4c1e-4a71-9766-9d184eb74a62",
   "metadata": {},
   "source": [
    "**Esta función regresa un diccionario con los datos de los jugadores del equipo el cuál se recibieron los datos.**"
   ]
  },
  {
   "cell_type": "code",
   "execution_count": 39,
   "id": "0e346074-01de-4352-8658-bd95eecdb2b5",
   "metadata": {},
   "outputs": [],
   "source": [
    "def equipo(team,id,slug,pais):\n",
    "    url = \"https://www.sofascore.com/team/football/\"+slug+\"/\"+str(id)\n",
    "    page = requests.get(url)\n",
    "    soup1 = bs(page.text)\n",
    "    script_tag = soup1.find_all('script', {'type': 'application/ld+json'})\n",
    "    x=script_tag[1]\n",
    "    json_data = x.string\n",
    "    data = json.loads(json_data)\n",
    "    athletes = data.get('athlete', [])\n",
    "    pretty_json_string = json.dumps(athletes)\n",
    "    print(pretty_json_string)\n",
    "    df = {'playerName':[i.get('name') for i in athletes], 'playercountry':[i.get('nationality', {}).get('name') for i in athletes],'team':[team for i in athletes],'teamid':[id for i in athletes],'teamorigin':[pais for i in athletes]}\n",
    "    return df"
   ]
  },
  {
   "cell_type": "markdown",
   "id": "1173d7c9-5ffd-435d-8bff-5c907e8f84b1",
   "metadata": {},
   "source": [
    "**La función merge es para juntar dos diccionarios.**"
   ]
  },
  {
   "cell_type": "code",
   "execution_count": 5,
   "id": "d706c4fe-b205-44e5-b672-2eb33d95a04c",
   "metadata": {},
   "outputs": [],
   "source": [
    "def merge(dict1, dict2):\n",
    "    # Merge dictionaries (concatenate lists)\n",
    "    merged = {}\n",
    "    for key in dict1:\n",
    "        # Convert non-list values to single-item lists\n",
    "        val1 = dict1[key] if isinstance(dict1[key], list) else [dict1[key]]\n",
    "        val2 = dict2[key] if isinstance(dict2[key], list) else [dict2[key]]\n",
    "        merged[key] = val1 + val2\n",
    "    \n",
    "    return merged"
   ]
  },
  {
   "cell_type": "markdown",
   "id": "107fd5d7-fdfb-4da3-955d-a6cd6459efef",
   "metadata": {},
   "source": [
    "**La función liga_completa recibe un DataFrame, puede ser el de una liga, o muchas, pero es importante que tenga los datos importantes del equipo del que se quieren extraer datos, regres un diccionario.**"
   ]
  },
  {
   "cell_type": "code",
   "execution_count": 6,
   "id": "1de9c995-8a7b-4e05-bf45-ffb3909e12cc",
   "metadata": {},
   "outputs": [],
   "source": [
    "def liga_completa(dict):\n",
    "    long = len(dict)\n",
    "    df = {\"playerName\": [],\"playercountry\": [],\"team\": [],\"teamid\": [],\"teamorigin\":[]}\n",
    "    for i in range(long):\n",
    "        e1 = equipo(dict.iloc[i,0],dict.iloc[i,1],dict.iloc[i,2],dict.iloc[i,3])\n",
    "        df = merge(df,e1)\n",
    "    return df"
   ]
  },
  {
   "cell_type": "markdown",
   "id": "9a5426a4-f5d3-442f-ba3a-c45be278823d",
   "metadata": {},
   "source": [
    "**Esta función es para extraer los datos de los equipos de las top 30 ligas en el mundo, pero bien puede ser de muchos otros países.**"
   ]
  },
  {
   "cell_type": "code",
   "execution_count": 7,
   "id": "e2e77012-5cf1-48c2-9cd6-b86ddad28862",
   "metadata": {},
   "outputs": [],
   "source": [
    "def todo(ligas):\n",
    "    df = {\"teamName\": [],\"id\": [],\"teamslug\": [],\"teamorigin\":[]}\n",
    "    y = len(ligas)\n",
    "    for i in range(y):\n",
    "        x = liga_dict(ligas.iloc[i,0],ligas.iloc[i,3],str(ligas.iloc[i,2]))\n",
    "        df = merge(df,x)\n",
    "    return df"
   ]
  },
  {
   "cell_type": "markdown",
   "id": "3aa7592d-de45-4727-9e4b-4881ed76c0d8",
   "metadata": {},
   "source": [
    "# Paises"
   ]
  },
  {
   "cell_type": "code",
   "execution_count": 8,
   "id": "7914992d-6bbd-4ff0-8e55-8efd4898b0e1",
   "metadata": {},
   "outputs": [],
   "source": [
    "slugs = [\n",
    "    \"mexico\", \"england\", \"spain\", \"germany\", \"italy\", \"france\", \"afghanistan\",\n",
    "    \"albania\", \"algeria\", \"american-samoa\", \"andorra\", \"angola\", \"anguilla\", \n",
    "    \"antigua-and-barbuda\",\"argentina\", \"armenia\", \"aruba\", \"australia\",\n",
    "    \"austria\", \"azerbaijan\", \"bahamas\", \"bahrain\", \"bangladesh\", \"barbados\",\n",
    "    \"belarus\", \"belgium\", \"belize\", \"benin\", \"bermuda\", \"bhutan\", \"bolivia\",\n",
    "    \"bosnia-herzegovina\", \"botswana\", \"brazil\", \"british-virgin-islands\",\n",
    "    \"brunei\", \"bulgaria\", \"burundi\", \"cambodia\", \"cameroon\", \"canada\",\n",
    "    \"cape-verde\", \"cayman-islands\", \"chad\", \"chile\", \"china\", \"chinese-taipei\",\n",
    "    \"colombia\", \"comoros\", \"congo-republic\", \"cook-islands\", \"costa-rica\",\n",
    "    \"croatia\", \"curacao\", \"cyprus\", \"czech-republic\", \"denmark\", \"dominica\",\n",
    "    \"dominican-republic\", \"dr-congo\", \"ecuador\", \"egypt\", \"el-salvador\",\n",
    "    \"estonia\", \"ethiopia\", \"faroe-islands\", \"fiji\", \"finland\",\n",
    "    \"french-guiana\", \"gabon\", \"gambia\", \"georgia\", \"ghana\", \"gibraltar\",\n",
    "    \"greece\", \"greenland\", \"grenada\", \"guadeloupe\", \"guam\", \"guatemala\",\n",
    "    \"guinea\", \"honduras\", \"hong-kong\", \"hungary\", \"iceland\", \"india\",\n",
    "    \"indonesia\", \"iran\", \"iraq\", \"ireland\", \"israel\", \"ivory-coast\", \"jamaica\",\n",
    "    \"japan\", \"jordan\", \"kazakhstan\", \"kenya\", \"kosovo\", \"kuwait\", \"kyrgyzstan\",\n",
    "    \"laos\", \"latvia\", \"lebanon\", \"lesotho\", \"liberia\", \"libya\", \"liechtenstein\",\n",
    "    \"lithuania\", \"luxembourg\", \"macao\", \"madagascar\", \"malaysia\", \"malta\",\n",
    "    \"martinique\", \"mauritania\", \"mauritius\", \"mayotte\", \"moldova\", \"mongolia\",\n",
    "    \"montenegro\", \"morocco\", \"mozambique\", \"myanmar\", \"namibia\", \"nepal\",\n",
    "    \"netherlands\", \"new-caledonia\", \"new-zealand\", \"nicaragua\", \"nigeria\",\n",
    "    \"north-macedonia\", \"northern-ireland\", \"northern-mariana-islands\",\n",
    "    \"norway\", \"pakistan\", \"palestine\", \"panama\", \"papua-new-guinea\",\n",
    "    \"paraguay\", \"peru\", \"philippines\", \"poland\", \"portugal\",\n",
    "    \"romania\", \"russia\", \"rwanda\", \"saint-kitts-and-nevis\", \"saint-martin\",\n",
    "    \"saint-vincent-and-the-grenadines\", \"samoa\", \"san-marino\",\n",
    "    \"sao-tome-and-principe\", \"scotland\", \"senegal\", \"serbia\",\n",
    "    \"seychelles\", \"sierra-leone\", \"singapore\", \"sint-maarten\", \"slovakia\",\n",
    "    \"slovenia\", \"solomon-islands\", \"somalia\", \"south-africa\", \"south-korea\",\n",
    "    \"south-sudan\", \"suriname\", \"sweden\", \"switzerland\", \"tahiti\",\n",
    "    \"tajikistan\", \"tanzania\", \"thailand\", \"tonga\",\n",
    "    \"trinidad-and-tobago\", \"tunisia\", \"turkey\", \"turkmenistan\",\n",
    "    \"turks-and-caicos-islands\", \"uganda\", \"ukraine\", \"united-arab-emirates\"\n",
    "    , \"us-virgin-islands\", \"usa\", \"uzbekistan\", \"vanuatu\", \"venezuela\",\n",
    "    \"vietnam\", \"wales\", \"zambia\", \"zimbabwe\",\n",
    "    \"qatar\",\"swaziland\",\"oman\",\"saudi-arabia\",\"syria\",\"uruguay\"\n",
    "]"
   ]
  },
  {
   "cell_type": "markdown",
   "id": "03f299af-4aa4-4fea-8819-a0805aa231bd",
   "metadata": {},
   "source": [
    "**Esta función es para extraer los id's de las ligas de todos los países, probablemente no se vuelva a usar.**"
   ]
  },
  {
   "cell_type": "code",
   "execution_count": 9,
   "id": "4c043d92-57a4-410d-b81c-a965d3c97f07",
   "metadata": {},
   "outputs": [],
   "source": [
    "def ligas_por_pais(pa,torn,id,slugs_t,pais):\n",
    "    driver.get(\"https://www.sofascore.com/football/\"+pais)\n",
    "    cont1 = driver.page_source\n",
    "    soup1 = bs(cont1)\n",
    "    todo = soup1.find_all('a')\n",
    "    for i in todo:\n",
    "        soup = i.get(\"href\")\n",
    "        divi = soup.split(\"/\")\n",
    "        if (divi[1] == 'tournament') and (divi[2] == 'football') and (divi[3] == pais):\n",
    "            h3=i.find('h3')\n",
    "            if h3:\n",
    "                nombre = h3.get_text(strip=True)\n",
    "            else:\n",
    "                continue\n",
    "            pa+=[pais]\n",
    "            torn+=[nombre]\n",
    "            id+=[divi[5]]\n",
    "            slugs_t+=[divi[4]]\n",
    "    return pa,torn,id,slugs_t"
   ]
  },
  {
   "cell_type": "markdown",
   "id": "e0e387a7-8cfd-4193-9c5c-588f7dd47d70",
   "metadata": {},
   "source": [
    "**Esta función es para extraer los datos de las primeras divisiones de todos los países.**"
   ]
  },
  {
   "cell_type": "code",
   "execution_count": 10,
   "id": "f529068e-fdb4-461a-91d7-15eb0fc8b10e",
   "metadata": {},
   "outputs": [],
   "source": [
    "pa=[]\n",
    "torn=[]\n",
    "id=[]\n",
    "slugs_t=[]\n",
    "\n",
    "def prims_div():\n",
    "    for i in slugs:\n",
    "        filt = dicc[dicc[\"slug_country\"]==i]\n",
    "        xf = filt.iloc[0]\n",
    "        pa.append(xf.slug_country)\n",
    "        torn.append(xf.tournament)\n",
    "        id.append(xf.id)\n",
    "        slugs_t.append(xf.slug_torn)\n",
    "    prdiv={'slug_country':pa,'tournament':torn,'id':id,'slug_torn':slugs_t}\n",
    "    return prdiv"
   ]
  },
  {
   "cell_type": "markdown",
   "id": "73564883-08ca-4f16-ab61-077ab187f8f2",
   "metadata": {},
   "source": [
    "**Llama a las funciones y extrae solo las primeras divisiones\n",
    "Actualización: Una vez que ya estén definidas, puede que ya no las use**"
   ]
  },
  {
   "cell_type": "markdown",
   "id": "6fd6fdde-f8fa-4613-9a36-df97efbc96a8",
   "metadata": {},
   "source": [
    "dicc = pd.read_csv(\"ligas.csv\")\n",
    "prdiv = prims_div()\n",
    "prdiv = pd.DataFrame(prdiv)\n",
    "prdiv = prdiv.drop([18,30,106,169,182,144,44],axis =0)"
   ]
  },
  {
   "cell_type": "code",
   "execution_count": 11,
   "id": "251603c9-993a-4aff-b9fa-cf7b4d10dabb",
   "metadata": {},
   "outputs": [],
   "source": [
    "prdiv = pd.read_csv(\"primeras_divisiones.csv\")"
   ]
  },
  {
   "cell_type": "markdown",
   "id": "680f54d9-c16e-4d87-948a-488af0851e96",
   "metadata": {},
   "source": [
    "**Aquí es donde se escogen solo las top 30 primeras divisiones, y se guardan en la variable prdiv_f, y puede que ya no sea nececario**"
   ]
  },
  {
   "cell_type": "markdown",
   "id": "668a9c8e-cbfd-4b11-be71-918ca5bafd3d",
   "metadata": {},
   "source": [
    "eqs = pd.read_csv(\"equipos_30.csv\")\n",
    "eqs=eqs.drop([\"Unnamed: 0\"], axis=1)"
   ]
  },
  {
   "cell_type": "markdown",
   "id": "e3f046e7-c192-4140-97c8-588cbdaaf033",
   "metadata": {},
   "source": [
    "**Esta parte llama a la función todo, la cuál trae los equipos y sus datos de las ligas que sean el input, pued que también ya no se ocupe**"
   ]
  },
  {
   "cell_type": "markdown",
   "id": "aa897c82-6a3f-4bfb-92f6-a63fdf5536f0",
   "metadata": {},
   "source": [
    "todos_equipos = todo(prdiv)\n",
    "todos_equipos = pd.DataFrame(todos_equipos)"
   ]
  },
  {
   "cell_type": "markdown",
   "id": "1c7d92b4-e0b0-4d96-b82d-6ad186d0dacb",
   "metadata": {},
   "source": [
    "**En esta parte llamo a la función liga completa, la cuál no necesariamente recibe una liga, recibe un dataframe\n",
    "con los equipos, y en este caso son todos, igual puede que ya no se use.**"
   ]
  },
  {
   "cell_type": "markdown",
   "id": "3e65c3da-8a56-4ffd-a784-d64605581a20",
   "metadata": {},
   "source": [
    "jugadores = liga_completa(todos_equipos)\n",
    "jugadores = jugadores.drop([\"teamorigin\",\"team\",\"Unnamed: 0\"], axis=1)"
   ]
  },
  {
   "cell_type": "markdown",
   "id": "49cd4cf7-0624-4f93-a84c-c9a4bf893fc4",
   "metadata": {},
   "source": [
    "**Esta parte puede que ya no la use ya que es para renombrar las columnas de id por simple comodidad**"
   ]
  },
  {
   "cell_type": "markdown",
   "id": "867fa7f0-48f0-4973-9331-8b4c5056cace",
   "metadata": {},
   "source": [
    "ligas = pd.read_csv(\"ligas.csv\")\n",
    "prdiv = f.rename(columns={\"id\":\"leagueid\"})\n",
    "prdiv = f.rename(columns={\"id\":\"teamid\"})\n",
    "ligas=ligas.rename(columns={\"id\":\"leagueid\"})\n",
    "prdiv = pd.merge(prdiv,ligas,left_on=\"teamorigin\",right_on=\"slug_country\",how=\"inner\")\n",
    "prdiv=prdiv[prdiv[\"slug_torn\"]==\"liga-profesional-de-futbol\"]\n",
    "#prdiv[prdiv[\"slug_torn\"]==\"mls\"].to_csv(\"usa.csv\",index=False)\n",
    "prdiv=prdiv[[\"slug_country\",\"tournament\",\"leagueid\",\"slug_torn\",\"teamName\",\"teamid\",\"teamslug\",\"teamorigin\"]]\n",
    "prdiv.to_csv(\"arg.csv\",index=False)"
   ]
  },
  {
   "cell_type": "markdown",
   "id": "111a7191-d30f-4e11-ae34-beb5e7833429",
   "metadata": {},
   "source": [
    "jugadores = g.drop([\"teamorigin\",\"team\"], axis=1)"
   ]
  },
  {
   "cell_type": "code",
   "execution_count": 12,
   "id": "9fc9d6af-2ef2-45d1-9643-18df358e0bdc",
   "metadata": {},
   "outputs": [],
   "source": [
    "jugadores = pd.read_csv(\"jugadores.csv\")\n",
    "todos_equipos = pd.read_csv(\"equipos_primeras_divisiones.csv\")"
   ]
  },
  {
   "cell_type": "code",
   "execution_count": 13,
   "id": "1895ce91-a55e-47bb-881e-52af654ccef3",
   "metadata": {},
   "outputs": [],
   "source": [
    "jugadores[\"teamid\"] = jugadores[\"teamid\"].astype(str)   # convertir a string\n",
    "todos_equipos[\"teamid\"] = todos_equipos[\"teamid\"].astype(str)"
   ]
  },
  {
   "cell_type": "markdown",
   "id": "9ae5ced7-22f7-49f6-85ec-719b9bed2760",
   "metadata": {},
   "source": [
    "**Este merge es para que se junten los equipos, y su país de origen**"
   ]
  },
  {
   "cell_type": "code",
   "execution_count": 14,
   "id": "8bd4755b-40e8-4253-8f4e-d447728a5674",
   "metadata": {},
   "outputs": [],
   "source": [
    "#merge_p_equipos = pd.merge(prdiv,col, left_on=\"slug_country\",right_on=\"teamorigin\",how=\"inner\")"
   ]
  },
  {
   "cell_type": "markdown",
   "id": "4fa5e170-b30a-409e-99c5-8953cdcd1586",
   "metadata": {},
   "source": [
    "**Este otro es para juntar las tablas de jugadores con equipos, no la convierto en un csv, es solo para el JSON.**"
   ]
  },
  {
   "cell_type": "code",
   "execution_count": 15,
   "id": "136b31b7-2388-43ad-ab40-03b379bc6ee0",
   "metadata": {},
   "outputs": [],
   "source": [
    "morg_prueba = pd.merge(jugadores,todos_equipos,left_on=\"teamid\",right_on=\"teamid\",how=\"right\")"
   ]
  },
  {
   "cell_type": "code",
   "execution_count": 16,
   "id": "c28c87ad-7037-4b2d-be3d-6b1dd558887d",
   "metadata": {},
   "outputs": [],
   "source": [
    "#morg[\"playercountry\"] = morg[\"playercountry\"].fillna(\"na\")"
   ]
  },
  {
   "cell_type": "code",
   "execution_count": 17,
   "id": "8f497090-70e8-4af1-bc49-8a2e2d5d441f",
   "metadata": {},
   "outputs": [],
   "source": [
    "import datetime\n",
    "import json\n",
    "\n",
    "def create_league_reports(df):\n",
    "    reports = {}\n",
    "\n",
    "    # Agrupar por liga: id, torneo y país\n",
    "    for (leagueid, tournament, slug_country), league_df in df.groupby([\"leagueid\", \"tournament\", \"slug_country\"]):\n",
    "        # Contar jugadores por nacionalidad\n",
    "        country_counts = league_df[\"playercountry\"].value_counts().to_dict()\n",
    "        total_players = sum(country_counts.values())\n",
    "\n",
    "        # Calcular cantidad de equipos (ids únicos)\n",
    "        team_count = league_df[\"teamid\"].nunique()\n",
    "\n",
    "        # Lista de nacionalidades\n",
    "        nationalities = [\n",
    "            {\n",
    "                \"country\": {\"name\": country},\n",
    "                \"playerCount\": int(count),\n",
    "                \"percentage\": round(int(count) / total_players * 100, 1) if total_players > 0 else 0\n",
    "            }\n",
    "            for country, count in country_counts.items()\n",
    "        ]\n",
    "\n",
    "        # Reporte de liga\n",
    "        report = {\n",
    "            \"tournament\": {\n",
    "                \"name\": tournament,\n",
    "                \"slug\": tournament.lower().replace(\" \", \"-\"),\n",
    "                \"category\": {\n",
    "                    \"name\": \"Football\",\n",
    "                    \"slug\": \"football\",\n",
    "                    \"sport\": {\"name\": \"Football\", \"slug\": \"football\", \"id\": 1}\n",
    "                },\n",
    "                \"country\": {\n",
    "                    \"name\": slug_country.capitalize(),\n",
    "                    \"slug\": slug_country\n",
    "                },\n",
    "                \"id\": int(leagueid)\n",
    "            },\n",
    "            \"type\": \"nationality_distribution\",\n",
    "            \"nationalities\": nationalities,\n",
    "            \"totalPlayers\": int(total_players),\n",
    "            \"teamCount\": int(team_count),\n",
    "            \"sufficientPlayers\": bool(total_players >= team_count * 23),\n",
    "            \"updatedAt\": datetime.datetime.now().isoformat()\n",
    "        }\n",
    "\n",
    "        # Guardar por país en vez de por nombre de torneo\n",
    "        if slug_country not in reports:\n",
    "            reports[slug_country] = []\n",
    "        reports[slug_country].append(report)\n",
    "\n",
    "    return reports\n",
    "\n",
    "\n",
    "# Generar reporte\n",
    "reports = create_league_reports(morg_prueba)\n",
    "\n",
    "# Guardar en JSON\n",
    "with open(\"league_reports.json\", \"w\", encoding=\"utf-8\") as f:\n",
    "    json.dump(reports, f, indent=2, ensure_ascii=False)"
   ]
  },
  {
   "cell_type": "code",
   "execution_count": null,
   "id": "3c24f02a-2c19-4f5e-ab92-7040914e690d",
   "metadata": {},
   "outputs": [],
   "source": []
  }
 ],
 "metadata": {
  "kernelspec": {
   "display_name": "base",
   "language": "python",
   "name": "python3"
  },
  "language_info": {
   "codemirror_mode": {
    "name": "ipython",
    "version": 3
   },
   "file_extension": ".py",
   "mimetype": "text/x-python",
   "name": "python",
   "nbconvert_exporter": "python",
   "pygments_lexer": "ipython3",
   "version": "3.12.3"
  }
 },
 "nbformat": 4,
 "nbformat_minor": 5
}
